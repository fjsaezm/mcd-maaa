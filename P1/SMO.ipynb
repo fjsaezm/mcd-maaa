{
 "cells": [
  {
   "cell_type": "markdown",
   "metadata": {},
   "source": [
    "<div class=\"title\">Practical Assignment: Support Vector Machines</div>\n",
    "<div class=\"subtitle\">Métodos Avanzados en Aprendizaje Automático</div>\n",
    "<div class=\"author\">Carlos María Alaíz Gudín - Universidad Autónoma de Madrid</div>\n",
    "\n",
    "---"
   ]
  },
  {
   "cell_type": "markdown",
   "metadata": {},
   "source": [
    "**Initial Configuration**"
   ]
  },
  {
   "cell_type": "markdown",
   "metadata": {},
   "source": [
    "This cell defines the configuration of Jupyter Notebooks."
   ]
  },
  {
   "cell_type": "code",
   "execution_count": 1,
   "metadata": {},
   "outputs": [
    {
     "data": {
      "text/html": [
       "<head><link rel=\"stylesheet\" href=\"style.css\"></head>\n"
      ],
      "text/plain": [
       "<IPython.core.display.HTML object>"
      ]
     },
     "metadata": {},
     "output_type": "display_data"
    }
   ],
   "source": [
    "%%html\n",
    "<head><link rel=\"stylesheet\" href=\"style.css\"></head>"
   ]
  },
  {
   "cell_type": "code",
   "execution_count": 2,
   "metadata": {},
   "outputs": [],
   "source": [
    "%matplotlib inline\n",
    "%load_ext autoreload\n",
    "%autoreload 2"
   ]
  },
  {
   "cell_type": "markdown",
   "metadata": {},
   "source": [
    "This cell imports the packages to be used (all of them quite standard except for `Utils`, which is provided with the notebook)."
   ]
  },
  {
   "cell_type": "code",
   "execution_count": 3,
   "metadata": {},
   "outputs": [],
   "source": [
    "import numpy as np\n",
    "\n",
    "import matplotlib\n",
    "import matplotlib.pyplot as plt\n",
    "\n",
    "from Utils import plot_dataset_clas, plot_svc\n",
    "\n",
    "matplotlib.rc('figure', figsize=(15, 5))\n",
    "seed = 123"
   ]
  },
  {
   "cell_type": "markdown",
   "metadata": {},
   "source": [
    "# Introduction"
   ]
  },
  {
   "cell_type": "markdown",
   "metadata": {},
   "source": [
    "This practical assignment consists in implementing a simplified version of the SVC class of `sklearn`.\n",
    "\n",
    "This class will contain two fundamentals routines, one for training a non-linear SVC (using the RBF kernel), based on the SMO algorithm for solving the dual optimization problem, and the other one for predicting over new out-of-sample points."
   ]
  },
  {
   "cell_type": "markdown",
   "metadata": {},
   "source": [
    "# SMO Algorithm"
   ]
  },
  {
   "cell_type": "markdown",
   "metadata": {},
   "source": [
    "## Optimization Problem\n",
    "\n",
    "The dual optimization problem for the Soft-Margin SVM is:\n",
    "$$\n",
    " \\left \\{ \\begin{array}{l} \\min_{\\boldsymbol{\\alpha} \\in \\mathbb{R}^N} \\frac{1}{2} \\boldsymbol{\\alpha}^\\intercal \\tilde{\\mathbf{K}} \\boldsymbol{\\alpha} - \\boldsymbol{\\alpha}^\\intercal \\mathbf{1} \\\\ \\text{ s.t. } \\boldsymbol{\\alpha}^\\intercal \\mathbf{y} = 0 , 0 \\le \\boldsymbol{\\alpha} \\le C ,\n",
    " \\end{array} \\right .\n",
    "$$\n",
    "where $\\tilde{k}_{ij} = y_i y_j \\mathcal{K}(\\mathbf{x}_i, \\mathbf{x}_j)$.\n",
    "\n",
    "This optimization problem is a QP problem, which is usually solved using an *ad hoc* algorithm: Sequential Minimal Optimization (SMO).\n",
    "\n",
    "## SMO and Coordinate Descent\n",
    "\n",
    "The main idea behind SMO is that the optimization problem is too involved to be solved as a whole, but it can be largely simplified considering only a few variables at a time.\n",
    "In this divide-and-conquer approach, called coordinate descent, the objective function is iteratively minimized over the different variables.\n",
    "\n",
    "In particular, SMO deals with two variables, the smaller working group that can be modified while respecting the constraints.\n",
    "Formally, the algorithm updates the current $\\alpha^\\text{old}_i$ and $\\alpha^\\text{old}_j$ coefficients to some new values $\\alpha_i$ and $\\alpha_j$, assuming that $\\boldsymbol{\\alpha}^\\text{old}$ satisfies $(\\boldsymbol{\\alpha}^\\text{old})^\\intercal \\mathbf{y} = 0$. In order to keep respecting the constraint in the new estimation, the following equation needs to be fulfilled:\n",
    "\\begin{align*}\n",
    " & y_i \\alpha^\\text{old}_i + y_j \\alpha^\\text{old}_j = y_i \\alpha_i + y_j \\alpha_j \\\\\n",
    " &\\implies y_i (\\alpha_i - \\alpha^\\text{old}_i) = - y_j (\\alpha_j - \\alpha^\\text{old}_j) \\\\\n",
    " &\\implies \\alpha_i = \\alpha^\\text{old}_i - y_i y_j (\\alpha_j - \\alpha^\\text{old}_j) .\n",
    "\\end{align*}\n",
    "\n",
    "For simplicity, one can assume that the update for the $j$-th coefficient is given by $\\alpha_j = \\alpha^\\text{old}_j + d$, and hence the optimization problem becomes a simple one-dimensional minimization.\n",
    "Therefore, it can be solved by computing the derivative with respect to $d$ and equating to $0$.\n",
    "After some derivations, the optimum unconstrained update turns out to be:\n",
    "\n",
    "\\begin{align*}\n",
    " d &= \\frac{y_j (E(\\mathbf{x}_j, y_j) - E(\\mathbf{x}_i, y_i))}{\\kappa} , \\text{ where} \\\\\n",
    " \\kappa &= 2 \\mathcal{K}(\\mathbf{x}_i, \\mathbf{x}_j) - \\mathcal{K}(\\mathbf{x}_i, \\mathbf{x}_i) - \\mathcal{K}(\\mathbf{x}_j, \\mathbf{x}_j) , \\text{ and} \\\\\n",
    " E(\\mathbf{x}, y) &= \\sum_{i = 1}^N \\alpha^\\text{old}_i y_i \\mathcal{K}(\\mathbf{x}_i, \\mathbf{x}) - y .\n",
    "\\end{align*}\n",
    "\n",
    "## Clipping\n",
    "\n",
    "The previous update does not take into account the box constrains $0 \\le \\alpha_i, \\alpha_j \\le C$.\n",
    "In order to satisfy these constraints for both $\\alpha_i$ and $\\alpha_j$, $\\alpha_j$ has to be clipped to the interval $[L, H]$, where\n",
    "$$\n",
    " \\begin{cases}\n",
    "  L = \\max(0, \\alpha^\\text{old}_j - \\alpha^\\text{old}_i), & H = \\min(C, C - \\alpha^\\text{old}_i + \\alpha^\\text{old}_j) & \\text{if } y_i \\neq y_j , \\\\\n",
    "  L = \\max(0, \\alpha^\\text{old}_j + \\alpha^\\text{old}_i - C), & H = \\min(C, \\alpha^\\text{old}_i + \\alpha^\\text{old}_j) & \\text{if } y_i = y_j .\n",
    " \\end{cases}\n",
    "$$\n",
    "\n",
    "Therefore, the update for $\\alpha_j$ becomes:\n",
    "$$ \\alpha_j = \\min(\\max(\\alpha^\\text{old}_j + d, L), H) , $$\n",
    "and, as mentioned above, the corresponding update for $\\alpha_i$ is:\n",
    "$$ \\alpha_i = \\alpha^\\text{old}_i - y_i y_j (\\alpha_j - \\alpha^\\text{old}_j) . $$\n",
    "\n",
    "## Selecting the Working Pair\n",
    "\n",
    "There are different methods for selecting the working pair of coefficients $(i, j)$ that will be updated.\n",
    "Usually, first or second order information is used to choose the working set, trying to find those that will provide the largest minimization of the objective function.\n",
    "\n",
    "Nevertheless, in this work a simplified version of SMO will be implemented.\n",
    "The first coefficient $i$ will be selected just iteratively, cycling over all the possible values $i = 1, 2, \\dotsc, N$. The second coefficient $j$ is selected randomly over the remaining possible values $j \\neq i$.\n",
    "\n",
    "It should be noted that this approach will not guarantee the convergence in general, since not all possible pairs $(i, j)$ are explored, but it will work in most problems.\n",
    "\n",
    "## Stopping Criteria\n",
    "\n",
    "The algorithm will be terminated when a certain maximum number of iteration is reached (for each iteration, all the coefficients are updated), or when after one iteration the total change of the coefficients is smaller than a certain tolerance, $\\| \\boldsymbol{\\alpha} - \\boldsymbol{\\alpha}^\\text{old}\\| < \\epsilon$.\n",
    "\n",
    "Since the working pair is generated randomly, it can happen that after a whole iteration the changes are smaller than $\\epsilon$ not because the optimization is finished, but because of \"bad luck\". A workaround is to set $\\epsilon = 0$ to force all the iterations.\n",
    "\n",
    "## Computing the Intercept\n",
    "\n",
    "Once the optimum dual coefficients $\\boldsymbol{\\alpha}^*$ have been estimated, the intercept $b^*$ can be computed knowing that any support vector $\\mathbf{x}_k$ with $0 < \\alpha^*_k < C$ satisfies:\n",
    "$$ b^* = y_k - \\sum_{i = 1}^N \\alpha^*_i y_i \\mathcal{K}(\\mathbf{x}_i, \\mathbf{x}_k) . $$\n",
    "\n",
    "This equality is usually averaged over all the possible vectors $k$ satisfying $0 < \\alpha^*_k < C$ for reasons of numerical stability.\n",
    "\n",
    "## Prediction\n",
    "\n",
    "Once the model is trained and the optimal parameters $\\boldsymbol{\\alpha}^*$ and $b^*$ are known, the score predicted over a new sample $\\mathbf{x}$ is:\n",
    "$$ f(\\mathbf{x}) = \\sum_{i = 1}^N \\alpha^*_i y_i \\mathcal{K}(\\mathbf{x}_i, \\mathbf{x}) + b . $$\n",
    "\n",
    "Finally, the class is assigned with:\n",
    "$$ \\hat{y} = \\operatorname{sign}(f(\\mathbf{x})) . $$"
   ]
  },
  {
   "cell_type": "markdown",
   "metadata": {},
   "source": [
    "# Implementation of the SVC"
   ]
  },
  {
   "cell_type": "markdown",
   "metadata": {},
   "source": [
    "## Requirements\n",
    "\n",
    "The objective of this assignment is to complete the class `MySVC` sketched below, which should contain at least the following methods.\n",
    "\n",
    "---\n",
    "```python\n",
    "__init__(self, C=1.0, gamma=\"scale\", tol=0.0001, max_iter=10000)\n",
    "```\n",
    "* This is the construction method for the class, with the following parameters:\n",
    "    * `C`: Regularization parameter $C$ of the SVC.\n",
    "    * `gamma`: Kernel parameter $\\gamma$ of the RBF kernel.\n",
    "    * `tol`: Tolerance for the stopping criterion $\\epsilon$.\n",
    "    * `max_iter`: Maximum number of iterations (in the sense of epochs, each iteration contains a pass through all the coefficients).\n",
    "* This method should only store the parameters in fields of the class, to be used when needed.\n",
    "\n",
    "---\n",
    "```python\n",
    "fit(self, X, y)\n",
    "```\n",
    "* This is the training method, with the following parameters:\n",
    "    * `X`: Training data matrix $\\mathbf{X} \\in \\mathbb{R}^{N \\times d}$.\n",
    "    * `y`: Vector of labels $\\mathbf{y}$, with $y_i \\in \\{-1, +1\\}$.\n",
    "* This method should solve the dual optimization problem, storing the obtained coefficients and other useful information in fields of the class.\n",
    "\n",
    "---\n",
    "```python\n",
    "decision_function(self, X)\n",
    "```\n",
    "* This is the method that computes the output of the SVC, with the following parameters:\n",
    "    * `X`: Test data matrix $\\mathbf{X}' \\in \\mathbb{R}^{N' \\times d}$.\n",
    "* This method should predict the output (the score) of the SVC, using the information stored in the fields of the class, and return it as a vector\n",
    "\n",
    "---\n",
    "```python\n",
    "predict(self, X)\n",
    "```\n",
    "* This is the method that computes the predicted class of the SVC, with the following parameters:\n",
    "    * `X`: Test data matrix $\\mathbf{X}' \\in \\mathbb{R}^{N' \\times d}$.\n",
    "* This method should predict the assigned class of the SVC, using the information stored in the fields of the class, and return it as a vector.\n",
    "\n",
    "## Recommendations\n",
    "\n",
    "Additional auxiliary methods can be defined to simplify the code.\n",
    "Some suggestions are:\n",
    "\n",
    "1. A method to compute the output of the SVC, with the current estimated parameters but without considering the intercept:\n",
    "$$ \\sum_{i = 1}^N \\alpha_i y_i \\mathcal{K}(\\mathbf{x}_i, \\mathbf{x}) . $$\n",
    "1. A method to compute $E(\\mathbf{x}, y)$.\n",
    "1. A method to compute the lower and upper bounds $L$ and $H$ for the clipping of the update.\n",
    "1. A method to estimate $b^*$."
   ]
  },
  {
   "cell_type": "markdown",
   "metadata": {},
   "source": [
    "## Implementation"
   ]
  },
  {
   "cell_type": "markdown",
   "metadata": {},
   "source": [
    "<div class=\"qst\">\n",
    "\n",
    "* Complete the `MySVC` class below, satisfying the described requirements.\n",
    "\n",
    "</div>"
   ]
  },
  {
   "cell_type": "code",
   "execution_count": 15,
   "metadata": {},
   "outputs": [],
   "source": [
    "import numpy as np\n",
    "from sklearn.metrics.pairwise import rbf_kernel\n",
    "from numpy.linalg import norm\n",
    "\n",
    "class MySVC():\n",
    "    \"\"\"\n",
    "        SVC with a simplified version of SMO.\n",
    "    \"\"\"\n",
    "    def __init__(self, C=1.0, gamma=\"scale\", tol=0.0001, max_iter=100, kernel='rbf'):\n",
    "        # Assignment of the hyper-parameters.\n",
    "        self.C = C\n",
    "        self.tol = tol\n",
    "        self.max_iter = max_iter\n",
    "        self.kernel_type = kernel\n",
    "        \n",
    "        if gamma != 'scale' and gamma != 'auto':\n",
    "             raise AttributeError('Not valid gamma: {}'.format(self.gamma))\n",
    "        self.gamma = gamma\n",
    "        \n",
    "        # Assign the kernel function\n",
    "        if self.kernel_type == 'rbf':\n",
    "            self.kernel = lambda X,Y : rbf_kernel(X, Y)\n",
    "        else:\n",
    "            raise AttributeError('Not valid kernel type: {}'.format(kernel))\n",
    "            \n",
    "    def fit(self, X, y):\n",
    "        # Constants\n",
    "        N = X.shape[0]\n",
    "\n",
    "        # Options for gamma (for compatibility with sklean).\n",
    "        if (self.gamma == \"scale\"):\n",
    "            self.gamma = 1.0 / (N * X.var())\n",
    "        elif (self.gamma == \"auto\"):\n",
    "            self.gamma = 1.0 / N\n",
    "        else:\n",
    "            raise ValueError('Not valid gamma: {}'.format(self.gamma))\n",
    "            \n",
    "        # Initialization of the dual coefficients (named \"a\" instead of \"alpha\" for simplicity).\n",
    "        self.a = np.zeros(N)\n",
    "\n",
    "        # Other initializations (complete).\n",
    "        K = self.kernel(X, None)\n",
    "\n",
    "        # Loop over the iterations.\n",
    "        for it in range(self.max_iter):\n",
    "            # Initializations.\n",
    "            a_old = self.a.copy()\n",
    "            i_indexes = np.arange(N)\n",
    "            j_indexes = [ np.random.choice(i_indexes[i_indexes != i])\n",
    "                            for i in i_indexes ]\n",
    "            \n",
    "            # Loop over the coefficients.\n",
    "            for i,j in zip(i_indexes, j_indexes):\n",
    "                L, H = self._compute_bounds(y, i, j)\n",
    "\n",
    "                # Update of the corresponding a[i] and a[j] values \n",
    "                aj_old = self.a[j].copy()\n",
    "                self.a[j] = np.minimum(np.maximum(self.a[j] + self._d(X, y, i, j, K), L), H)\n",
    "                self.a[i] = self.a[i] - y[i]*y[j]*(self.a[j] - aj_old)\n",
    "\n",
    "            # Check of the stopping conditions.\n",
    "            if norm(a_old - self.a) < self.tol:\n",
    "                break\n",
    "        \n",
    "        # Storage of the obtained parameters and computation of the intercept.\n",
    "        self.support_ = np.where(self.a > 0)\n",
    "        self.support_vectors_ = X[self.support_]\n",
    "        self.intercept_ = self._compute_intercept(K, y)\n",
    "        self.dual_coef_ = (y * self.a)[self.support_]\n",
    "        return self\n",
    "\n",
    "    def decision_function(self, X):\n",
    "        # Computation of the decision function over X\n",
    "        return np.dot(self.dual_coef_,\n",
    "                      self.kernel(self.support_vectors_, X)) \\\n",
    "                        + self.intercept_\n",
    "\n",
    "    def predict(self, X):\n",
    "        # Computation of the predicted class over X\n",
    "        return np.sign(self.decision_function(X))\n",
    "\n",
    "    # Auxiliary methods.\n",
    "    def _compute_bounds(self, y, i, j):\n",
    "        \"\"\"\n",
    "            Computes the bounds that alpha[j] must satisfy\n",
    "            - y: class labels\n",
    "            - i: i-th position of the dual coefficients\n",
    "            - j: j-th position of the dual coefficients\n",
    "        \"\"\"\n",
    "        # Clips alpha_j to the [L,H] interval\n",
    "        if y[i] != y[j]:\n",
    "            L = np.maximum(0, self.a[j] - self.a[i])\n",
    "            H = np.minimum(self.C, self.C - self.a[i] + self.a[j])\n",
    "        else:\n",
    "            L = np.maximum(0, self.a[j] + self.a[i] - self.C)\n",
    "            H = np.minimum(self.C, self.a[i] + self.a[j])\n",
    "        return L,H\n",
    "        \n",
    "    def _d(self, X, y, i, j, K):        \n",
    "        # Computes d, the value of the update for the weight alpha_j\n",
    "        k = 2*K[i,j] - K[i,i] - K[j,j]\n",
    "        if k == 0:\n",
    "            raise ValueError('Cannot compute d with k = 0 for (i={},j={})'.format(i,j))\n",
    "        return y[j] * (self._E(K, y, j) - self._E(K, y, i)) / k\n",
    "    \n",
    "    def _E(self, K, y, i):\n",
    "        # Computes E for the expression of d\n",
    "        return self._compute_output(K, y, self.a, i) - y[i]\n",
    "        \n",
    "    def _compute_output(self, K, y, a, i):\n",
    "        \"\"\"\n",
    "            A method to compute the output of the j-th element with the current alpha\n",
    "            wihtout considering the intercept.\n",
    "        \"\"\"\n",
    "        return np.dot(a * y, K[:, i])\n",
    "        \n",
    "    def _compute_intercept(self, K, y):\n",
    "        intercept_indexes = np.where(abs(self.a - C/2) < C/2)\n",
    "        return np.mean([ y[i] - self._compute_output(K, y, self.a, i) for i in intercept_indexes ])\n",
    "    "
   ]
  },
  {
   "cell_type": "markdown",
   "metadata": {},
   "source": [
    "# Experiments with the SVC"
   ]
  },
  {
   "cell_type": "markdown",
   "metadata": {},
   "source": [
    "## Comparative with *scikit-learn*"
   ]
  },
  {
   "cell_type": "markdown",
   "metadata": {},
   "source": [
    "The following cell generates the *moons* dataset, dividing it into train and test splits, and depicting it."
   ]
  },
  {
   "cell_type": "code",
   "execution_count": 5,
   "metadata": {
    "scrolled": true
   },
   "outputs": [
    {
     "data": {
      "image/png": "[encoded data removed]",
      "text/plain": [
       "<Figure size 1080x360 with 1 Axes>"
      ]
     },
     "metadata": {
      "needs_background": "light"
     },
     "output_type": "display_data"
    },
    {
     "data": {
      "image/png": "[encoded data removed]",
      "text/plain": [
       "<Figure size 1080x360 with 1 Axes>"
      ]
     },
     "metadata": {
      "needs_background": "light"
     },
     "output_type": "display_data"
    }
   ],
   "source": [
    "from sklearn.datasets import make_moons\n",
    "from sklearn.model_selection import train_test_split\n",
    "from sklearn.svm import SVC\n",
    "\n",
    "x, y = make_moons(noise=1e-1, random_state=seed)\n",
    "y[y != 1] = -1\n",
    "\n",
    "x_tr, x_te, y_tr, y_te = train_test_split(x, y, test_size=0.3, random_state=seed)\n",
    "\n",
    "plot_dataset_clas(x_tr, y_tr)\n",
    "plt.title('Train'); plt.show()\n",
    "plot_dataset_clas(x_te, y_te)\n",
    "plt.title('Test'); plt.show()"
   ]
  },
  {
   "cell_type": "markdown",
   "metadata": {},
   "source": [
    "<div class=\"qst\">\n",
    "\n",
    "* Train an SVC model over the training data (`x_tr`, `y_tr`), using both the `SVC` class of `sklearn` and the implemented `MySVC` class.\n",
    "* Predict using the previous two models over the test data (`x_te`, `y_te`).\n",
    "* Compare that both classes provide the same outputs (in terms of the decision function and of the predicted class), describing the obtained results. If needed, reduce the default stopping tolerance and/or increase the default maximum number of iterations.\n",
    "\n",
    "</div>"
   ]
  },
  {
   "cell_type": "code",
   "execution_count": 16,
   "metadata": {
    "scrolled": true
   },
   "outputs": [
    {
     "name": "stdout",
     "output_type": "stream",
     "text": [
      "0.9333333333333333\n"
     ]
    }
   ],
   "source": [
    "C = 1\n",
    "gamma = 'scale'\n",
    "\n",
    "model_my = MySVC(C=C, gamma=gamma, tol=-1)\n",
    "model_sk = SVC(C=C, gamma=gamma)\n",
    "\n",
    "# Training of the models (complete).\n",
    "model_my.fit(x_tr, y_tr)\n",
    "y_predicted = model_my.predict(x_te)\n",
    "\n",
    "from sklearn.metrics import accuracy_score\n",
    "\n",
    "print(accuracy_score(y_te, y_predicted))\n",
    "\n",
    "# Comparative of the predicted scores (complete).\n",
    "# ...\n",
    "\n",
    "# Comparative of the predicted classes (complete).\n",
    "# ..."
   ]
  },
  {
   "cell_type": "markdown",
   "metadata": {},
   "source": [
    "## Understanding the SVM"
   ]
  },
  {
   "cell_type": "markdown",
   "metadata": {},
   "source": [
    "<div class=\"qst\">\n",
    "\n",
    "* Considering the model created with the `MySVC` class:\n",
    "    * Extract the list of support vectors, explaining the followed approach.\n",
    "    * Extract the list of training points bad and well classified, explaining the followed approach.\n",
    "    * Extract the list of training points that lie over the supporting hyperplanes.\n",
    "    * Extract the list of training points located on the wrong side of the supporting hyperplanes, but that are well classified.\n",
    "* What are the conditions over the dual coefficients $\\alpha_i$ that characterize the previous lists (if any)?\n",
    "\n",
    "</div>"
   ]
  },
  {
   "cell_type": "code",
   "execution_count": null,
   "metadata": {},
   "outputs": [],
   "source": [
    "# Extraction of the lists (complete).\n",
    "# ..."
   ]
  },
  {
   "cell_type": "markdown",
   "metadata": {},
   "source": [
    "# Cosas interesantes a estudiar\n",
    "\n",
    "- que pasa si al calcular b* no hay ningun elemento (son =0 o =C)\n",
    "- Porbar distintos metodos de inicializacion de alpha\n",
    "- Otros tipos de kernel"
   ]
  }
 ],
 "metadata": {
  "@webio": {
   "lastCommId": null,
   "lastKernelId": null
  },
  "kernelspec": {
   "display_name": "Python 3",
   "language": "python",
   "name": "python3"
  },
  "language_info": {
   "codemirror_mode": {
    "name": "ipython",
    "version": 3
   },
   "file_extension": ".py",
   "mimetype": "text/x-python",
   "name": "python",
   "nbconvert_exporter": "python",
   "pygments_lexer": "ipython3",
   "version": "3.8.3"
  },
  "toc": {
   "base_numbering": 1,
   "nav_menu": {},
   "number_sections": false,
   "sideBar": true,
   "skip_h1_title": false,
   "title_cell": "Table of Contents",
   "title_sidebar": "Contents",
   "toc_cell": false,
   "toc_position": {
    "height": "calc(100% - 180px)",
    "left": "10px",
    "top": "150px",
    "width": "352px"
   },
   "toc_section_display": true,
   "toc_window_display": false
  }
 },
 "nbformat": 4,
 "nbformat_minor": 2
}
